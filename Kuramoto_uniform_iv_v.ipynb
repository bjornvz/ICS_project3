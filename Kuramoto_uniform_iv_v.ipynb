{
 "cells": [
  {
   "cell_type": "code",
   "execution_count": 1,
   "metadata": {},
   "outputs": [],
   "source": [
    "import numpy as np\n",
    "import matplotlib.pyplot as plt\n",
    "import time\n",
    "import datetime"
   ]
  },
  {
   "cell_type": "code",
   "execution_count": 2,
   "metadata": {},
   "outputs": [],
   "source": [
    "# INITIALIZE VARIABLES\n",
    "N = 2000\n",
    "\n",
    "T = 200\n",
    "dt = 0.05\n",
    "\n",
    "K = 1\n",
    "runs = np.arange(10)\n",
    "\n",
    "t = np.arange(0, T+dt, dt)\n",
    "thetas = np.zeros((N, t.size))\n",
    "\n",
    "f = np.zeros(N)\n",
    "\n",
    "r = np.zeros((runs.size,t.size))\n",
    "psi = np.zeros((runs.size,t.size))\n",
    "\n",
    "def timer(start,end):   # Show execution time in the format \"hours : minutes : seconds\"\n",
    "    hours, rem = divmod(end-start, 3600)\n",
    "    minutes, seconds = divmod(rem, 60)\n",
    "    print(\"Execution time (h:m:s): \"+\"{:0>2}:{:0>2}:{:05.2f}\".format(int(hours),int(minutes),seconds))"
   ]
  },
  {
   "cell_type": "code",
   "execution_count": 44,
   "metadata": {},
   "outputs": [
    {
     "name": "stdout",
     "output_type": "stream",
     "text": [
      "Run: 0\n",
      "Execution time (h:m:s): 00:00:00.00\n",
      "Code finished.\n",
      "Execution time (h:m:s): 00:00:00.77\n",
      "Run: 1\n",
      "Execution time (h:m:s): 00:00:00.00\n",
      "Code finished.\n",
      "Execution time (h:m:s): 00:00:00.77\n",
      "Run: 2\n",
      "Execution time (h:m:s): 00:00:00.00\n",
      "Code finished.\n",
      "Execution time (h:m:s): 00:00:00.78\n",
      "Run: 3\n",
      "Execution time (h:m:s): 00:00:00.00\n",
      "Code finished.\n",
      "Execution time (h:m:s): 00:00:00.71\n",
      "Run: 4\n",
      "Execution time (h:m:s): 00:00:00.00\n",
      "Code finished.\n",
      "Execution time (h:m:s): 00:00:00.73\n",
      "Run: 5\n",
      "Execution time (h:m:s): 00:00:00.00\n",
      "Code finished.\n",
      "Execution time (h:m:s): 00:00:00.72\n",
      "Run: 6\n",
      "Execution time (h:m:s): 00:00:00.00\n",
      "Code finished.\n",
      "Execution time (h:m:s): 00:00:00.73\n",
      "Run: 7\n",
      "Execution time (h:m:s): 00:00:00.00\n",
      "Code finished.\n",
      "Execution time (h:m:s): 00:00:00.72\n",
      "Run: 8\n",
      "Execution time (h:m:s): 00:00:00.00\n",
      "Code finished.\n",
      "Execution time (h:m:s): 00:00:00.71\n",
      "Run: 9\n",
      "Execution time (h:m:s): 00:00:00.00\n",
      "Code finished.\n",
      "Execution time (h:m:s): 00:00:00.73\n"
     ]
    }
   ],
   "source": [
    "#omegas = np.random.uniform(-0.5,0.5,N) # UNIFORMLY distributed natural frequencies. mean 0, sd 1, size (N,1); row vector\n",
    "thetas[:,0] = np.random.uniform(0,2*np.pi,(1,N))  # the initial theta values: uniformly distributed between 0 and 2pi\n",
    "\n",
    "\n",
    "for s in runs: #NOTE s is the run index, not a \"K\" index.\n",
    "    start_time = time.time()     #Initial time for execution time calculation\n",
    "\n",
    "    print(\"Run: \"+str(s))\n",
    "    timer(start_time, time.time())       # Time of execution\n",
    "\n",
    "    omegas = np.random.uniform(-0.5,0.5,N) # UNIFORMLY distributed natural frequencies. mean 0, sd 1, size (N,1); row vector\n",
    "    #thetas[:,0] = np.random.uniform(0,2*np.pi,(1,N))  # the initial theta values: uniformly distributed between 0 and 2pi\n",
    "\n",
    "    for i in range(0,t.size):\n",
    "        z = 1/N*np.sum(np.exp(0+1j*thetas[:,i])) # order parameter\n",
    "\n",
    "        r[s,i] = np.absolute(z) # modulus. NOTE: remove array if not used.\n",
    "        psi[s,i] = np.angle(z) # global phase\n",
    "\n",
    "        f = omegas + K*r[s,i]*np.sin(psi[s,i]-thetas[:,i])\n",
    "\n",
    "        if i >= t.size-1:\n",
    "            break\n",
    "        thetas[:,i+1] = thetas[:,i] + dt * f\n",
    "\n",
    "\n",
    "    print(\"Code finished.\")\n",
    "    timer(start_time, time.time())       # Time of execution\n",
    "\n",
    "    \n",
    "# SAVE FILE\n",
    "timestring = datetime.datetime.now().strftime(\"%Y-%m-%d_%H-%M-%S\")\n",
    "\n",
    "np.savetxt(\"UNIFORM_K=1_data\"+timestring+\".csv\", r, delimiter=\",\")"
   ]
  },
  {
   "cell_type": "code",
   "execution_count": 10,
   "metadata": {},
   "outputs": [],
   "source": [
    "# SAVE FILE\n",
    "timestring = datetime.datetime.now().strftime(\"%Y-%m-%d_%H-%M-%S\")\n",
    "\n",
    "np.savetxt(\"UNIFORM_K=1_data\"+timestring+\".csv\", r, delimiter=\",\")"
   ]
  },
  {
   "cell_type": "code",
   "execution_count": 3,
   "metadata": {},
   "outputs": [],
   "source": [
    "# LOAD FILE\n",
    "filename4 = \"UNIFORM_K=1_data2021-01-19_15-49-04.csv\" #FIXED OMEGA_i's\n",
    "filename5 = \"UNIFORM_K=1_data2021-01-19_16-21-21.csv\"  #FIXED THETA_i's\n",
    "\n",
    "rsaved4 = np.loadtxt(filename4, delimiter=',')\n",
    "rsaved5 = np.loadtxt(filename5, delimiter=',')"
   ]
  },
  {
   "cell_type": "code",
   "execution_count": 46,
   "metadata": {},
   "outputs": [
    {
     "data": {
      "image/png": "[encoded data removed]",
      "text/plain": [
       "<Figure size 432x288 with 10 Axes>"
      ]
     },
     "metadata": {
      "needs_background": "light"
     },
     "output_type": "display_data"
    },
    {
     "name": "stdout",
     "output_type": "stream",
     "text": [
      "Code finished.\n"
     ]
    }
   ],
   "source": [
    "fig, axs = plt.subplots(5, 2,sharex='col', sharey='row',\n",
    "                        gridspec_kw={'hspace': 0, 'wspace': 0})\n",
    "\n",
    "for s in runs:\n",
    "    ax=axs[s//2,s%2]\n",
    "    ax.plot(t[0:1000],rsaved[s,0:1000],label=\"Run \"+str(s+1))\n",
    "    ax.set(xlabel=r'$t$', ylabel=r'$r$')\n",
    "    ax.legend()\n",
    "    \n",
    "    \n",
    "for ax in axs.flat:\n",
    "    ax.label_outer()\n",
    "\n",
    "timestring = datetime.datetime.now().strftime(\"%Y-%m-%d_%H-%M-%S\")\n",
    "\n",
    "plt.savefig(\"iv_phase_coherence_FIXED_theta\"+timestring, dpi=600, bbox_inches='tight')    \n",
    "plt.show()\n",
    "print(\"Code finished.\")"
   ]
  },
  {
   "cell_type": "code",
   "execution_count": 4,
   "metadata": {},
   "outputs": [
    {
     "ename": "NameError",
     "evalue": "name 'rsaved' is not defined",
     "output_type": "error",
     "traceback": [
      "\u001b[1;31m---------------------------------------------------------------------------\u001b[0m",
      "\u001b[1;31mNameError\u001b[0m                                 Traceback (most recent call last)",
      "\u001b[1;32m<ipython-input-4-7b458105c1e6>\u001b[0m in \u001b[0;36m<module>\u001b[1;34m\u001b[0m\n\u001b[0;32m      1\u001b[0m \u001b[1;32mfor\u001b[0m \u001b[0ms\u001b[0m \u001b[1;32min\u001b[0m \u001b[0mruns\u001b[0m\u001b[1;33m:\u001b[0m\u001b[1;33m\u001b[0m\u001b[1;33m\u001b[0m\u001b[0m\n\u001b[1;32m----> 2\u001b[1;33m     \u001b[0mplt\u001b[0m\u001b[1;33m.\u001b[0m\u001b[0mplot\u001b[0m\u001b[1;33m(\u001b[0m\u001b[0mt\u001b[0m\u001b[1;33m[\u001b[0m\u001b[1;36m0\u001b[0m\u001b[1;33m:\u001b[0m\u001b[1;36m1000\u001b[0m\u001b[1;33m]\u001b[0m\u001b[1;33m,\u001b[0m\u001b[0mrsaved\u001b[0m\u001b[1;33m[\u001b[0m\u001b[0ms\u001b[0m\u001b[1;33m,\u001b[0m\u001b[1;36m0\u001b[0m\u001b[1;33m:\u001b[0m\u001b[1;36m1000\u001b[0m\u001b[1;33m]\u001b[0m\u001b[1;33m,\u001b[0m\u001b[0mlabel\u001b[0m\u001b[1;33m=\u001b[0m\u001b[1;34m\"Run \"\u001b[0m\u001b[1;33m+\u001b[0m\u001b[0mstr\u001b[0m\u001b[1;33m(\u001b[0m\u001b[0ms\u001b[0m\u001b[1;33m+\u001b[0m\u001b[1;36m1\u001b[0m\u001b[1;33m)\u001b[0m\u001b[1;33m)\u001b[0m\u001b[1;33m\u001b[0m\u001b[1;33m\u001b[0m\u001b[0m\n\u001b[0m\u001b[0;32m      3\u001b[0m \u001b[1;33m\u001b[0m\u001b[0m\n\u001b[0;32m      4\u001b[0m \u001b[1;31m#plt.title(\"Coherence parameter, fixed \"+r'$\\omega_i$')\u001b[0m\u001b[1;33m\u001b[0m\u001b[1;33m\u001b[0m\u001b[1;33m\u001b[0m\u001b[0m\n\u001b[0;32m      5\u001b[0m \u001b[0mplt\u001b[0m\u001b[1;33m.\u001b[0m\u001b[0mtitle\u001b[0m\u001b[1;33m(\u001b[0m\u001b[1;34m\"Coherence parameter, fixed \"\u001b[0m\u001b[1;33m+\u001b[0m\u001b[1;34mr'$\\theta_i(0)$'\u001b[0m\u001b[1;33m)\u001b[0m\u001b[1;33m\u001b[0m\u001b[1;33m\u001b[0m\u001b[0m\n",
      "\u001b[1;31mNameError\u001b[0m: name 'rsaved' is not defined"
     ]
    }
   ],
   "source": [
    "for s in runs:\n",
    "    plt.plot(t[0:1000],rsaved[s,0:1000],label=\"Run \"+str(s+1))\n",
    "\n",
    "#plt.title(\"Coherence parameter, fixed \"+r'$\\omega_i$')\n",
    "plt.title(\"Coherence parameter, fixed \"+r'$\\theta_i(0)$')\n",
    "\n",
    "plt.xlabel(r'$t$')\n",
    "plt.ylabel(r'$r$')\n",
    "plt.legend()\n",
    "\n",
    "timestring = datetime.datetime.now().strftime(\"%Y-%m-%d_%H-%M-%S\")\n",
    "\n",
    "plt.savefig(\"iv_COMBINED_phase_coherence_FIXED_theta\"+timestring, dpi=600, bbox_inches='tight')    \n",
    "plt.show()\n",
    "print(\"Code finished.\")"
   ]
  },
  {
   "cell_type": "code",
   "execution_count": 6,
   "metadata": {},
   "outputs": [
    {
     "data": {
      "image/png": "[encoded data removed]",
      "text/plain": [
       "<Figure size 432x288 with 1 Axes>"
      ]
     },
     "metadata": {
      "needs_background": "light"
     },
     "output_type": "display_data"
    },
    {
     "name": "stdout",
     "output_type": "stream",
     "text": [
      "Code finished.\n"
     ]
    }
   ],
   "source": [
    "mean4=np.mean(rsaved4, axis=0)\n",
    "sd4=np.std(rsaved4, axis=0)\n",
    "\n",
    "mean5=np.mean(rsaved5, axis=0)\n",
    "sd5=np.std(rsaved5, axis=0)\n",
    "\n",
    "plt.plot(t[0:1000],mean4[0:1000],label=r'$\\omega_i$'+\" fixed\")\n",
    "plt.plot(t[0:1000],mean5[0:1000],label=r'$\\theta_i(0)$'+\" fixed\")\n",
    "\n",
    "\n",
    "plt.title(\"Coherence parameter\")\n",
    "\n",
    "plt.xlabel(r'$t$')\n",
    "plt.ylabel(r'$r$')\n",
    "plt.legend()\n",
    "\n",
    "timestring = datetime.datetime.now().strftime(\"%Y-%m-%d_%H-%M-%S\")\n",
    "\n",
    "plt.savefig(\"iv_v_COMBINED_phase_coherence_BOTH\"+timestring, dpi=600, bbox_inches='tight')    \n",
    "plt.show()\n",
    "print(\"Code finished.\")"
   ]
  },
  {
   "cell_type": "code",
   "execution_count": null,
   "metadata": {},
   "outputs": [],
   "source": []
  }
 ],
 "metadata": {
  "kernelspec": {
   "display_name": "Python 3",
   "language": "python",
   "name": "python3"
  },
  "language_info": {
   "codemirror_mode": {
    "name": "ipython",
    "version": 3
   },
   "file_extension": ".py",
   "mimetype": "text/x-python",
   "name": "python",
   "nbconvert_exporter": "python",
   "pygments_lexer": "ipython3",
   "version": "3.8.3"
  }
 },
 "nbformat": 4,
 "nbformat_minor": 4
}
