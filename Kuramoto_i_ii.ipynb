{
 "cells": [
  {
   "cell_type": "code",
   "execution_count": 2,
   "metadata": {},
   "outputs": [],
   "source": [
    "import numpy as np\n",
    "import matplotlib.pyplot as plt\n",
    "import time\n",
    "import datetime"
   ]
  },
  {
   "cell_type": "code",
   "execution_count": 8,
   "metadata": {},
   "outputs": [],
   "source": [
    "# INITIALIZE VARIABLES\n",
    "N = 1000\n",
    "\n",
    "T = 100\n",
    "dt = 0.01\n",
    "\n",
    "Kmin = 0\n",
    "Kmax = 5\n",
    "dK = 0.2\n",
    "\n",
    "Kc=2*np.sqrt(2/np.pi)\n",
    "\n",
    "t = np.arange(0, T+dt, dt)\n",
    "Krange = np.arange(Kmin, Kmax+dK, dK)\n",
    "\n",
    "thetas = np.zeros((N, t.size)) \n",
    "\n",
    "f = np.zeros(N)\n",
    "\n",
    "r = np.zeros((Krange.size,t.size))\n",
    "psi = np.zeros((Krange.size,t.size))\n",
    "\n",
    "def timer(start,end):   # Show execution time in the format \"hours : minutes : seconds\"\n",
    "    hours, rem = divmod(end-start, 3600)\n",
    "    minutes, seconds = divmod(rem, 60)\n",
    "    print(\"Execution time (h:m:s): \"+\"{:0>2}:{:0>2}:{:05.2f}\".format(int(hours),int(minutes),seconds))"
   ]
  },
  {
   "cell_type": "code",
   "execution_count": 12,
   "metadata": {
    "scrolled": false
   },
   "outputs": [
    {
     "name": "stdout",
     "output_type": "stream",
     "text": [
      "K: 0.0\n",
      "K: 0.2\n",
      "K: 0.4\n",
      "K: 0.6000000000000001\n",
      "K: 0.8\n",
      "K: 1.0\n",
      "K: 1.2000000000000002\n",
      "K: 1.4000000000000001\n",
      "K: 1.6\n",
      "K: 1.8\n",
      "K: 2.0\n",
      "K: 2.2\n",
      "K: 2.4000000000000004\n",
      "K: 2.6\n",
      "K: 2.8000000000000003\n",
      "K: 3.0\n",
      "K: 3.2\n",
      "K: 3.4000000000000004\n",
      "K: 3.6\n",
      "K: 3.8000000000000003\n",
      "K: 4.0\n",
      "K: 4.2\n",
      "K: 4.4\n",
      "K: 4.6000000000000005\n",
      "K: 4.800000000000001\n",
      "K: 5.0\n",
      "Code finished.\n",
      "Execution time (h:m:s): 00:00:26.70\n"
     ]
    }
   ],
   "source": [
    "#for index in range(5):\n",
    "# RUN SIMULATION\n",
    "start_time = time.time()     #Initial time for execution time calculation\n",
    "\n",
    "for j in range(Krange.size):\n",
    "    K = Krange[j]\n",
    "    print(\"K: \"+str(K))\n",
    "\n",
    "    thetas[:,0] = np.random.uniform(0,2*np.pi,(1,N))  # the initial theta values: uniformly distributed\n",
    "    omegas = np.random.normal(0,1,N) # normally distributed natural frequencies. mean 0, sd 1, size (N,1); row vector\n",
    "\n",
    "    for i in range(0,t.size):\n",
    "        z = 1/N*np.sum(np.exp(0+1j*thetas[:,i])) # order parameter\n",
    "\n",
    "        r[j,i] = np.absolute(z) # modulus. \n",
    "        psi[j,i] = np.angle(z) # global phase. NOTE: remove array if not used.\n",
    "\n",
    "        f = omegas + K*r[j,i]*np.sin(psi[j,i]-thetas[:,i])\n",
    "\n",
    "        if i >= t.size-1:\n",
    "            break\n",
    "        thetas[:,i+1] = (thetas[:,i] + dt * f)%(2*np.pi)\n",
    "\n",
    "print(\"Code finished.\")\n",
    "timer(start_time, time.time())       # Time of execution\n",
    "\n",
    "# SAVE FILE\n",
    "timestring = datetime.datetime.now().strftime(\"%Y-%m-%d_%H-%M-%S\")\n",
    "\n",
    "np.savetxt(\"r_data_\"+timestring+\".csv\", r, delimiter=\",\")"
   ]
  },
  {
   "cell_type": "code",
   "execution_count": null,
   "metadata": {},
   "outputs": [],
   "source": [
    "# SAVE FILE\n",
    "timestring = datetime.datetime.now().strftime(\"%Y-%m-%d_%H-%M-%S\")\n",
    "\n",
    "np.savetxt(\"r_data_\"+timestring+\".csv\", r, delimiter=\",\")"
   ]
  },
  {
   "cell_type": "code",
   "execution_count": 13,
   "metadata": {},
   "outputs": [],
   "source": [
    "# LOAD FILE\n",
    "filename = \"r_data_2021-01-24_13-33-33.csv\"\n",
    "rsaved = np.loadtxt(filename, delimiter=',')\n",
    "\n",
    "rinf = rsaved[:,-1]  # last element is r_inf = r(T)"
   ]
  },
  {
   "cell_type": "code",
   "execution_count": 14,
   "metadata": {},
   "outputs": [
    {
     "data": {
      "image/png": "[encoded data removed]",
      "text/plain": [
       "<Figure size 432x288 with 1 Axes>"
      ]
     },
     "metadata": {
      "needs_background": "light"
     },
     "output_type": "display_data"
    },
    {
     "name": "stdout",
     "output_type": "stream",
     "text": [
      "Code finished.\n"
     ]
    }
   ],
   "source": [
    "# (t,r) PLOT FROM SAVED FILE\n",
    "# NOTE that Krange is not specified in the saved file!\n",
    "\n",
    "for j in range(Krange.size):\n",
    "    K=round(Krange[j],1)\n",
    "    if K== 1 or K==2:\n",
    "        plt.plot(t,rsaved[j,:],label=r'$K$'+\" = \"+str(K))\n",
    "    \n",
    "plt.title('Phase coherence')\n",
    "plt.xlabel(r'$t$')\n",
    "plt.ylabel(r'$r$')\n",
    "#plt.legend(bbox_to_anchor=(1.05, 1), loc='upper left', prop={'size': 8},ncol=2)\n",
    "plt.legend()\n",
    "\n",
    "timestring = datetime.datetime.now().strftime(\"%Y-%m-%d_%H-%M-%S\")\n",
    "\n",
    "plt.savefig(\"Phase_coherence\"+timestring+\".png\", dpi=600, bbox_inches='tight')    \n",
    "plt.show()\n",
    "print(\"Code finished.\")"
   ]
  },
  {
   "cell_type": "code",
   "execution_count": 13,
   "metadata": {},
   "outputs": [
    {
     "data": {
      "image/png": "[encoded data removed]",
      "text/plain": [
       "<Figure size 432x288 with 1 Axes>"
      ]
     },
     "metadata": {
      "needs_background": "light"
     },
     "output_type": "display_data"
    },
    {
     "name": "stdout",
     "output_type": "stream",
     "text": [
      "Code finished.\n"
     ]
    }
   ],
   "source": [
    "# (K,r(T)) PLOT FROM SAVED FILE\n",
    "# NOTE that Krange is not specified in the saved file!\n",
    "\n",
    "plt.plot(Krange, rinf,'-xk',label=r'$r(T)$')\n",
    "#plt.axvline(x=Kc)\n",
    "\n",
    "plt.title(\"Limiting \"+r'$r(T)$' +\" with \" + r'$T=100$')\n",
    "plt.xlabel(r'$K$')\n",
    "plt.ylabel(r'$r(T)$')\n",
    "\n",
    "timestring = datetime.datetime.now().strftime(\"%Y-%m-%d_%H-%M-%S\")\n",
    "\n",
    "plt.savefig(\"Limiting_r_\"+timestring+\".png\", dpi=600)    \n",
    "plt.show()\n",
    "print(\"Code finished.\")"
   ]
  },
  {
   "cell_type": "code",
   "execution_count": 3,
   "metadata": {},
   "outputs": [
    {
     "name": "stdout",
     "output_type": "stream",
     "text": [
      "Code finished.\n"
     ]
    }
   ],
   "source": [
    "# AVERAGED (K,r(T)) PLOT FROM SAVED FILES\n",
    "# LOAD FILES\n",
    "file1 = \"r_data_2021-01-23_16-56-31.csv\"\n",
    "file2 = \"r_data_2021-01-23_16-56-04.csv\"\n",
    "file3 = \"r_data_2021-01-23_16-55-35.csv\"\n",
    "file4 = \"r_data_2021-01-23_16-55-08.csv\"\n",
    "file5 = \"r_data_2021-01-23_16-54-40.csv\"\n",
    "\n",
    "rsaved = np.stack((np.loadtxt(file1, delimiter=','),np.loadtxt(file2, delimiter=','),np.loadtxt(file3, delimiter=','),np.loadtxt(file4, delimiter=','),np.loadtxt(file5, delimiter=',') ))\n",
    "\n",
    "rmean = np.mean(rsaved[:,:,-1], axis=0)  # last element is r_inf = r(T)\n",
    "rstd = np.std(rsaved[:,:,-1], axis=0)\n",
    "print(\"Code finished.\")"
   ]
  },
  {
   "cell_type": "code",
   "execution_count": 7,
   "metadata": {},
   "outputs": [
    {
     "data": {
      "image/png": "[encoded data removed]",
      "text/plain": [
       "<Figure size 432x288 with 1 Axes>"
      ]
     },
     "metadata": {
      "needs_background": "light"
     },
     "output_type": "display_data"
    },
    {
     "name": "stdout",
     "output_type": "stream",
     "text": [
      "Code finished.\n"
     ]
    }
   ],
   "source": [
    "# PLOT\n",
    "plt.plot(Krangecons, rcons,linewidth=1.0,label=\"cons. eq.\")\n",
    "plt.errorbar(Krange, rmean, yerr=rstd, fmt='.k', ecolor='r', capthick=1,label=r'$r(T)$')\n",
    "#plt.axvline(x=Kc)\n",
    "\n",
    "plt.title(\"Limiting \"+r'$r(T)$'+\", averaged\")\n",
    "plt.xlabel(r'$K$')\n",
    "plt.ylabel(r'$r(T)$')\n",
    "plt.legend()\n",
    "\n",
    "timestring = datetime.datetime.now().strftime(\"%Y-%m-%d_%H-%M-%S\")\n",
    "\n",
    "plt.savefig(\"Limiting_r_averaged_\"+timestring+\".png\", dpi=600)    \n",
    "plt.show()\n",
    "print(\"Code finished.\")"
   ]
  },
  {
   "cell_type": "code",
   "execution_count": 5,
   "metadata": {},
   "outputs": [
    {
     "data": {
      "image/png": "[encoded data removed]",
      "text/plain": [
       "<Figure size 432x288 with 1 Axes>"
      ]
     },
     "metadata": {
      "needs_background": "light"
     },
     "output_type": "display_data"
    },
    {
     "name": "stdout",
     "output_type": "stream",
     "text": [
      "Code finished.\n"
     ]
    }
   ],
   "source": [
    "# PLOT FROM CONSISTENCY EQUATION\n",
    "Krangecons=np.array([1.596, 1.606, 1.616, 1.626, 1.636, 1.646, 1.656, 1.666, 1.676, 1.686, \\\n",
    "1.696, 1.706, 1.716, 1.726, 1.736, 1.746, 1.756, 1.766, 1.776, 1.786, \\\n",
    "1.796, 1.806, 1.816, 1.826, 1.836, 1.846, 1.856, 1.866, 1.876, 1.886, \\\n",
    "1.896, 1.906, 1.916, 1.926, 1.936, 1.946, 1.956, 1.966, 1.976, 1.986, \\\n",
    "1.996, 2.006, 2.016, 2.026, 2.036, 2.046, 2.056, 2.066, 2.076, 2.086, \\\n",
    "2.096, 2.106, 2.116, 2.126, 2.136, 2.146, 2.156, 2.166, 2.176, 2.186, \\\n",
    "2.196, 2.206, 2.216, 2.226, 2.236, 2.246, 2.256, 2.266, 2.276, 2.286, \\\n",
    "2.296, 2.306, 2.316, 2.326, 2.336, 2.346, 2.356, 2.366, 2.376, 2.386, \\\n",
    "2.396, 2.406, 2.416, 2.426, 2.436, 2.446, 2.456, 2.466, 2.476, 2.486, \\\n",
    "2.496, 2.506, 2.516, 2.526, 2.536, 2.546, 2.556, 2.566, 2.576, 2.586, \\\n",
    "2.596, 2.606, 2.616, 2.626, 2.636, 2.646, 2.656, 2.666, 2.676, 2.686, \\\n",
    "2.696, 2.706, 2.716, 2.726, 2.736, 2.746, 2.756, 2.766, 2.776, 2.786, \\\n",
    "2.796, 2.806, 2.816, 2.826, 2.836, 2.846, 2.856, 2.866, 2.876, 2.886, \\\n",
    "2.896, 2.906, 2.916, 2.926, 2.936, 2.946, 2.956, 2.966, 2.976, 2.986, \\\n",
    "2.996, 3.006, 3.016, 3.026, 3.036, 3.046, 3.056, 3.066, 3.076, 3.086, \\\n",
    "3.096, 3.106, 3.116, 3.126, 3.136, 3.146, 3.156, 3.166, 3.176, 3.186, \\\n",
    "3.196, 3.206, 3.216, 3.226, 3.236, 3.246, 3.256, 3.266, 3.276, 3.286, \\\n",
    "3.296, 3.306, 3.316, 3.326, 3.336, 3.346, 3.356, 3.366, 3.376, 3.386, \\\n",
    "3.396, 3.406, 3.416, 3.426, 3.436, 3.446, 3.456, 3.466, 3.476, 3.486, \\\n",
    "3.496, 3.506, 3.516, 3.526, 3.536, 3.546, 3.556, 3.566, 3.576, 3.586, \\\n",
    "3.596, 3.606, 3.616, 3.626, 3.636, 3.646, 3.656, 3.666, 3.676, 3.686, \\\n",
    "3.696, 3.706, 3.716, 3.726, 3.736, 3.746, 3.756, 3.766, 3.776, 3.786, \\\n",
    "3.796, 3.806, 3.816, 3.826, 3.836, 3.846, 3.856, 3.866, 3.876, 3.886, \\\n",
    "3.896, 3.906, 3.916, 3.926, 3.936, 3.946, 3.956, 3.966, 3.976, 3.986, \\\n",
    "3.996, 4.006, 4.016, 4.026, 4.036, 4.046, 4.056, 4.066, 4.076, 4.086, \\\n",
    "4.096, 4.106, 4.116, 4.126, 4.136, 4.146, 4.156, 4.166, 4.176, 4.186, \\\n",
    "4.196, 4.206, 4.216, 4.226, 4.236, 4.246, 4.256, 4.266, 4.276, 4.286, \\\n",
    "4.296, 4.306, 4.316, 4.326, 4.336, 4.346, 4.356, 4.366, 4.376, 4.386, \\\n",
    "4.396, 4.406, 4.416, 4.426, 4.436, 4.446, 4.456, 4.466, 4.476, 4.486, \\\n",
    "4.496, 4.506, 4.516, 4.526, 4.536, 4.546, 4.556, 4.566, 4.576, 4.586, \\\n",
    "4.596, 4.606, 4.616, 4.626, 4.636, 4.646, 4.656, 4.666, 4.676, 4.686, \\\n",
    "4.696, 4.706, 4.716, 4.726, 4.736, 4.746, 4.756, 4.766, 4.776, 4.786, \\\n",
    "4.796, 4.806, 4.816, 4.826, 4.836, 4.846, 4.856, 4.866, 4.876, 4.886, \\\n",
    "4.896, 4.906, 4.916, 4.926, 4.936, 4.946, 4.956, 4.966, 4.976, 4.986, \\\n",
    "4.996])\n",
    "\n",
    "rcons=np.array([0.0213166, 0.141017, 0.197075, 0.23943, 0.274523, 0.304895, 0.331864, \\\n",
    "0.356219, 0.378483, 0.399018, 0.418093, 0.435913, 0.452636, 0.46839, \\\n",
    "0.483281, 0.497395, 0.510806, 0.523576, 0.535758, 0.5474, 0.558542, \\\n",
    "0.56922, 0.579467, 0.589311, 0.598777, 0.60789, 0.61667, 0.625135, \\\n",
    "0.633305, 0.641194, 0.648817, 0.656188, 0.66332, 0.670224, 0.676911, \\\n",
    "0.68339, 0.689672, 0.695765, 0.701677, 0.707416, 0.71299, 0.718404, \\\n",
    "0.723665, 0.72878, 0.733754, 0.738593, 0.743301, 0.747883, 0.752345, \\\n",
    "0.75669, 0.760922, 0.765046, 0.769065, 0.772983, 0.776803, 0.780528, \\\n",
    "0.784163, 0.787708, 0.791169, 0.794546, 0.797843, 0.801063, 0.804207, \\\n",
    "0.807278, 0.810278, 0.81321, 0.816075, 0.818875, 0.821613, 0.824289, \\\n",
    "0.826907, 0.829467, 0.831971, 0.834421, 0.836818, 0.839163, 0.841459, \\\n",
    "0.843706, 0.845906, 0.84806, 0.850169, 0.852235, 0.854258, 0.85624, \\\n",
    "0.858181, 0.860084, 0.861948, 0.863775, 0.865565, 0.867321, 0.869041, \\\n",
    "0.870729, 0.872383, 0.874005, 0.875597, 0.877157, 0.878688, 0.880191, \\\n",
    "0.881664, 0.88311, 0.88453, 0.885923, 0.88729, 0.888632, 0.889949, \\\n",
    "0.891243, 0.892513, 0.89376, 0.894985, 0.896189, 0.89737, 0.898531, \\\n",
    "0.899672, 0.900793, 0.901894, 0.902976, 0.904039, 0.905085, 0.906112, \\\n",
    "0.907122, 0.908115, 0.909091, 0.910051, 0.910995, 0.911923, 0.912836, \\\n",
    "0.913734, 0.914618, 0.915487, 0.916342, 0.917183, 0.918011, 0.918825, \\\n",
    "0.919627, 0.920416, 0.921192, 0.921956, 0.922709, 0.92345, 0.924179, \\\n",
    "0.924897, 0.925605, 0.926301, 0.926987, 0.927663, 0.928328, 0.928984, \\\n",
    "0.92963, 0.930266, 0.930893, 0.931511, 0.93212, 0.93272, 0.933312, \\\n",
    "0.933895, 0.934469, 0.935036, 0.935594, 0.936145, 0.936688, 0.937223, \\\n",
    "0.937751, 0.938271, 0.938785, 0.939291, 0.939791, 0.940284, 0.94077, \\\n",
    "0.94125, 0.941723, 0.94219, 0.942651, 0.943106, 0.943555, 0.943998, \\\n",
    "0.944435, 0.944867, 0.945293, 0.945713, 0.946129, 0.946539, 0.946944, \\\n",
    "0.947344, 0.947739, 0.948129, 0.948514, 0.948894, 0.94927, 0.949641, \\\n",
    "0.950008, 0.95037, 0.950728, 0.951082, 0.951432, 0.951777, 0.952119, \\\n",
    "0.952456, 0.952789, 0.953119, 0.953445, 0.953767, 0.954085, 0.9544, \\\n",
    "0.954711, 0.955019, 0.955323, 0.955624, 0.955921, 0.956216, 0.956507, \\\n",
    "0.956794, 0.957079, 0.957361, 0.957639, 0.957915, 0.958187, 0.958457, \\\n",
    "0.958724, 0.958988, 0.959249, 0.959508, 0.959764, 0.960017, 0.960267, \\\n",
    "0.960515, 0.960761, 0.961004, 0.961244, 0.961482, 0.961718, 0.961951, \\\n",
    "0.962182, 0.962411, 0.962638, 0.962862, 0.963084, 0.963304, 0.963522, \\\n",
    "0.963737, 0.963951, 0.964163, 0.964372, 0.96458, 0.964785, 0.964989, \\\n",
    "0.965191, 0.965391, 0.965589, 0.965785, 0.965979, 0.966172, 0.966362, \\\n",
    "0.966552, 0.966739, 0.966925, 0.967109, 0.967291, 0.967472, 0.967651, \\\n",
    "0.967828, 0.968004, 0.968179, 0.968352, 0.968523, 0.968693, 0.968861, \\\n",
    "0.969028, 0.969194, 0.969358, 0.969521, 0.969682, 0.969842, 0.970001, \\\n",
    "0.970158, 0.970314, 0.970469, 0.970622, 0.970774, 0.970925, 0.971075, \\\n",
    "0.971223, 0.97137, 0.971516, 0.971661, 0.971805, 0.971947, 0.972089, \\\n",
    "0.972229, 0.972368, 0.972506, 0.972643, 0.972779, 0.972914, 0.973047, \\\n",
    "0.97318, 0.973312, 0.973442, 0.973572, 0.973701, 0.973828, 0.973955, \\\n",
    "0.974081, 0.974205, 0.974329, 0.974452, 0.974574, 0.974695, 0.974815, \\\n",
    "0.974934, 0.975052, 0.97517, 0.975286, 0.975402, 0.975517, 0.975631, \\\n",
    "0.975744, 0.975857, 0.975968, 0.976079, 0.976189, 0.976298, 0.976406, \\\n",
    "0.976514, 0.976621, 0.976727, 0.976832, 0.976937, 0.977041, 0.977144, \\\n",
    "0.977246, 0.977348, 0.977449, 0.977549, 0.977648, 0.977747, 0.977846, \\\n",
    "0.977943, 0.97804, 0.978136, 0.978232, 0.978327])\n",
    "\n",
    "plt.plot(Krangecons, rcons,label=r'$r(T)$')\n",
    "#plt.axvline(x=Kc)\n",
    "\n",
    "plt.title(r'$r$'+\" from consistency equation\")\n",
    "plt.xlabel(r'$K$')\n",
    "plt.ylabel(r'$r$')\n",
    "\n",
    "plt.savefig(\"analytical_r\", dpi=600)    \n",
    "plt.show()\n",
    "print(\"Code finished.\")"
   ]
  },
  {
   "cell_type": "code",
   "execution_count": null,
   "metadata": {},
   "outputs": [],
   "source": []
  },
  {
   "cell_type": "code",
   "execution_count": null,
   "metadata": {},
   "outputs": [],
   "source": []
  }
 ],
 "metadata": {
  "kernelspec": {
   "display_name": "Python 3",
   "language": "python",
   "name": "python3"
  },
  "language_info": {
   "codemirror_mode": {
    "name": "ipython",
    "version": 3
   },
   "file_extension": ".py",
   "mimetype": "text/x-python",
   "name": "python",
   "nbconvert_exporter": "python",
   "pygments_lexer": "ipython3",
   "version": "3.8.3"
  }
 },
 "nbformat": 4,
 "nbformat_minor": 4
}
